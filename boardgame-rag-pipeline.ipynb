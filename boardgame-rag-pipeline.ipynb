{
 "cells": [
  {
   "cell_type": "code",
   "execution_count": null,
   "metadata": {
    "_cell_guid": "b1076dfc-b9ad-4769-8c92-a6c4dae69d19",
    "_uuid": "8f2839f25d086af736a60e9eeb907d3b93b6e0e5",
    "execution": {
     "iopub.execute_input": "2025-07-02T18:27:18.889422Z",
     "iopub.status.busy": "2025-07-02T18:27:18.889037Z",
     "iopub.status.idle": "2025-07-02T18:27:18.896057Z",
     "shell.execute_reply": "2025-07-02T18:27:18.894888Z",
     "shell.execute_reply.started": "2025-07-02T18:27:18.889396Z"
    },
    "trusted": true
   },
   "outputs": [],
   "source": [
<<<<<<< HEAD
    "# This Python 3 environment comes with many helpful analytics libraries installed\n",
    "# It is defined by the kaggle/python Docker image: https://github.com/kaggle/docker-python\n",
    "# For example, here's several helpful packages to load\n",
    "\n",
    "import numpy as np # linear algebra\n",
    "import pandas as pd # data processing, CSV file I/O (e.g. pd.read_csv)\n",
    "\n",
    "# Input data files are available in the read-only \"../input/\" directory\n",
    "# For example, running this (by clicking run or pressing Shift+Enter) will list all files under the input directory\n",
    "\n",
    "import os\n",
    "for dirname, _, filenames in os.walk('/kaggle/input'):\n",
    "    for filename in filenames:\n",
    "        print(os.path.join(dirname, filename))\n",
    "\n",
    "# You can write up to 20GB to the current directory (/kaggle/working/) that gets preserved as output when you create a version using \"Save & Run All\" \n",
    "# You can also write temporary files to /kaggle/temp/, but they won't be saved outside of the current session"
=======
    "import numpy as np # linear algebra\n",
    "import pandas as pd # data processing, CSV file I/O (e.g. pd.read_csv)"
>>>>>>> 64c0f14d9ee34178ef5a7679b610a56439595244
   ]
  },
  {
   "cell_type": "code",
   "execution_count": null,
   "metadata": {
    "execution": {
     "iopub.execute_input": "2025-07-02T18:27:24.797768Z",
     "iopub.status.busy": "2025-07-02T18:27:24.797136Z",
     "iopub.status.idle": "2025-07-02T18:28:17.183348Z",
     "shell.execute_reply": "2025-07-02T18:28:17.182181Z",
     "shell.execute_reply.started": "2025-07-02T18:27:24.797727Z"
    },
    "trusted": true
   },
   "outputs": [],
   "source": [
    "!pip install PyPDF2 sentence-transformers faiss-cpu \n",
    "\n"
   ]
  },
  {
   "cell_type": "code",
   "execution_count": null,
   "metadata": {},
   "outputs": [],
   "source": [
    "!pip install PyMuPDF"
   ]
  },
  {
   "cell_type": "markdown",
   "metadata": {},
   "source": [
    "## Load a Board Game Rulebook and Extract Text"
   ]
  },
  {
   "cell_type": "code",
   "execution_count": 2,
   "metadata": {},
   "outputs": [
    {
     "name": "stdout",
     "output_type": "stream",
     "text": [
      "\n",
      "--- Page 1 ---\n",
      "3\n",
      "THE OFFICIAL RULES OF CHESS • CARDOZA PUBLISHING\n",
      "Rules of\n",
      "Chess\n",
      "ERIC SCHILLER\n",
      "\n",
      "--- Page 2 ---\n",
      "THE OFFICIAL RULES OF CHESS • CARDOZA PUBLISHING\n",
      "THE OFFICIAL RULES OF CHESS\n",
      "The following are the standard rules of chess as applied in World\n",
      "Championship competition. In later chapter we present some of the\n",
      "variations of the rules used in amateur, scholastic, and online com-\n",
      "petitions. These rules conform in most part to those of the world\n",
      "chess federation (FIDE), but differ significantly from those found in\n",
      "American tournaments conducted under the auspices of the United\n",
      "States Chess Federation. Since most American tournaments are\n",
      "amateur events, those rules are discussed in the section on ama-\n",
      "teur rules.\n",
      "This set of rules was composed by International Arbiter Eric\n",
      "Schiller, with the cooperation and valuable assistance of Interna-\n",
      "tional Arbiters Andrzej Filipowicz (Poland) and Yuri Averbakh (Rus-\n",
      "sia). They were used verbatim in the 2000 Braingames.net World\n",
      "Chess Championship and were personally approved by World Cham-\n",
      "pion Garry Kasparov and his challenger Vladimir Kramnik. Additional\n",
      "advice was provided by Lothar Schmid of Germany, the Interna-\n",
      "tional Arbiter who oversaw the Fischer vs. Spassky matches in 1972\n",
      "and 1992.\n",
      "SCOPE\n",
      "The Laws of Chess cannot cover all possible situations that may\n",
      "arise during a game. The Arbiter’s judgment will apply when there is\n",
      "no specific rule available.\n",
      "RULES OF PLAY\n",
      "Article 1: The Nature & Objectives of the Game of Chess\n",
      "1.1. The game of chess is played between two opponents who\n",
      "move pieces alternately on a square board called a chessboard.\n",
      "The player who has control of the white pieces (White) starts the\n",
      "game. A player is said to ‘have the move’, when the opponent’s move\n",
      "has been completed.\n",
      "1.2. The objective of each player is to arrive at a position such\n",
      "that the opponent’s king has no legal move which would avoid the\n",
      "capture of the king on the following move. This situation is called\n",
      "\n",
      "--- Page 3 ---\n",
      "THE OFFICIAL RULES OF CHESS • CARDOZA PUBLISHING\n",
      "checkmate and the player who checkmates his opponent wins the\n",
      "game. The player who has been checkmated loses the game.\n",
      "Article 2: The Initial Position of the Pieces on the\n",
      "Chessboard\n",
      "2.1. The chessboard is composed of an 8 x 8 grid of 64 equal\n",
      "alternating light and dark squares. The chessboard is placed be-\n",
      "tween the players in such a way that the near corner square to the\n",
      "right of the player is a light square.\n",
      "2.2. At the beginning of the game one player has 16 light-col-\n",
      "ored pieces (the white pieces); the other has 16 dark-colored pieces\n",
      "(the black pieces). Each side has one king, one queen, two rooks,\n",
      "two bishops, two knights and eight pawns.\n",
      "2.3. The initial position of the pieces on the chessboard is as\n",
      "follows where the following symbols represent the pieces: = pawn,\n",
      " = knight, = bishop,  = rook, = queen, = king:\n",
      "cuuuuuuuuC\n",
      "(rhb1kgn4}\n",
      "70p0p0p0p}\n",
      "6wDwDwDwD}\n",
      "5DwDwDwDw}\n",
      "&wDwDwDwD}\n",
      "3DwDwDwDw}\n",
      "2P)P)P)P)}\n",
      "%$NGQIBHR}\n",
      "v,./9EFJMV\n",
      "2.4. The eight vertical columns of squares are referred to as\n",
      "files. The eight horizontal rows of squares are referred to as ranks. A\n",
      "straight line of squares of the same color, touching corner to corner,\n",
      "is referred to as a diagonal.\n",
      "Article 3: The Moves of the Pieces\n",
      "3.1. No piece can be moved to a square occupied by a piece of\n",
      "the same color (white or black). If a piece moves to a square occu-\n",
      "pied by an opponent’s piece the latter is captured and removed from\n",
      "the chessboard as part of the same move. A piece is said to attack a\n",
      "\n",
      "--- Page 4 ---\n",
      "THE OFFICIAL RULES OF CHESS • CARDOZA PUBLISHING\n",
      "square if the piece could move to that square on the next turn and\n",
      "capture an opponent’s piece if one occupies the square.\n",
      "3.2. (a) The queen moves to any square along the file, the rank\n",
      "or a diagonal on which it stands.\n",
      " (b) The rook moves to any square along the file or the rank on\n",
      "which it stands.\n",
      " (c) The bishop moves to any square along a diagonal on which\n",
      "it stands.\n",
      "When making these moves the queen, rook or bishop cannot\n",
      "move over any intervening pieces.\n",
      "3.3. The knight moves to one of the squares nearest to that on\n",
      "which it stands but not on the same rank, file or diagonal.\n",
      "3.4. The pawn has five legal moves:\n",
      "(a) The pawn moves forward to the unoccupied square immedi-\n",
      "ately in front of it on the same file\n",
      "(b) On its first move each pawn may advance two squares along\n",
      "the same file provided both squares are unoccupied\n",
      "(c) The pawn moves to a square occupied by an opponent’s\n",
      "piece which is diagonally in front of it on an adjacent file, capturing\n",
      "that piece.\n",
      "(d) A pawn attacking a square crossed by an opponent’s pawn\n",
      "which has advanced two squares in one move from its original square\n",
      "may capture this opponent’s pawn as though the latter had been\n",
      "moved only one square. This capture can be made only on the move\n",
      "following this advance and is called an ‘en passant’ capture.\n",
      "(e) When a pawn reaches the rank furthest from its starting posi-\n",
      "tion it must be exchanged as part of the same move for a quee\n"
     ]
    }
   ],
   "source": [
    "import fitz  # PyMuPDF\n",
    "\n",
    "file_path = \"ideabase_chessrules.pdf\"  \n",
    "\n",
    "doc = fitz.open(file_path)\n",
    "\n",
    "full_text = \"\"\n",
    "for page_num,page in enumerate(doc):\n",
    "    page_text = page.get_text()\n",
    "    full_text += f\"\\n--- Page {page_num + 1} ---\\n\" + page_text\n",
    "\n",
    "print(full_text[:5000])  # Print the first 1000 characters to check the content\n",
    "    "
   ]
  },
  {
   "cell_type": "markdown",
   "metadata": {},
   "source": [
    "### Clean and Preprocess the Rulebook Text"
   ]
  },
  {
   "cell_type": "code",
   "execution_count": 3,
   "metadata": {},
   "outputs": [
    {
     "name": "stdout",
     "output_type": "stream",
     "text": [
      "\n",
      "---  ---\n",
      "3\n",
      "the official rules of chess  cardoza publishing\n",
      "rules of\n",
      "chess\n",
      "eric schiller\n",
      "\n",
      "---  ---\n",
      "the official rules of chess  cardoza publishing\n",
      "the official rules of chess\n",
      "the following are the standard rules of chess as applied in world\n",
      "championship competition. in later chapter we present some of the\n",
      "variations of the rules used in amateur, scholastic, and online com-\n",
      "petitions. these rules conform in most part to those of the world\n",
      "chess federation (fide), but differ significantly from those found in\n",
      "american tournaments conducted under the auspices of the united\n",
      "states chess federation. since most american tournaments are\n",
      "amateur events, those rules are discussed in the section on ama-\n",
      "teur rules.\n",
      "this set of rules was composed by international arbiter eric\n",
      "schiller, with the cooperation and valuable assistance of interna-\n",
      "tional arbiters andrzej filipowicz (poland) and yuri averbakh (rus-\n",
      "sia). they were used verbatim in the 2000 braingames.net world\n",
      "chess championship and were personally approved by world cham-\n",
      "pion garry kasparov and his challenger vladimir kramnik. additional\n",
      "advice was provided by lothar schmid of germany, the interna-\n",
      "tional arbiter who oversaw the fischer vs. spassky matches in 1972\n",
      "and 1992.\n",
      "scope\n",
      "the laws of chess cannot cover all possible situations that may\n",
      "arise during a game. the arbiter’s judgment will apply when there is\n",
      "no specific rule available.\n",
      "rules of play\n",
      "article 1: the nature & objectives of the game of chess\n",
      "1.1. the game of che\n"
     ]
    }
   ],
   "source": [
    "import re\n",
    "\n",
    "# ✅ Retain double newlines (paragraph breaks), collapse 3+ to exactly 2\n",
    "cleaned_text = re.sub(r'\\n{3,}', '\\n\\n', full_text)\n",
    "\n",
    "# Step 2: Remove bullet characters or other non-standard symbols\n",
    "cleaned_text = re.sub(r'[•·►\\uf0b7\\xa0]', '', cleaned_text)\n",
    "\n",
    "# Step 3: Remove common footer/header artifacts (if you notice any patterns like \"Page x\" or \"FIDE Laws of Chess\")\n",
    "cleaned_text = re.sub(r'Page\\s+\\d+', '', cleaned_text, flags=re.IGNORECASE)\n",
    "\n",
    "# Step 4: Strip extra whitespace from beginning and end of each line\n",
    "cleaned_text = '\\n'.join([line.strip() for line in cleaned_text.splitlines()])\n",
    "\n",
    "# Step 5: (Optional) Convert to lowercase for normalization\n",
    "cleaned_text = cleaned_text.lower()  # Only if you're okay making everything lowercase\n",
    "\n",
    "# Preview the cleaned result\n",
    "print(cleaned_text[:1500])\n"
   ]
  },
  {
   "cell_type": "code",
   "execution_count": null,
   "metadata": {},
   "outputs": [],
   "source": [
    "print(cleaned_text[:5000])  # Print the first 5000 characters to check the cleaned content"
   ]
  },
  {
   "cell_type": "markdown",
   "metadata": {},
   "source": [
    "### Chunking Text"
   ]
  },
  {
   "cell_type": "code",
   "execution_count": 26,
   "metadata": {},
   "outputs": [
    {
     "name": "stdout",
     "output_type": "stream",
     "text": [
      "Collecting langchain\n",
      "  Downloading langchain-0.3.26-py3-none-any.whl.metadata (7.8 kB)\n",
      "Collecting langchain-core<1.0.0,>=0.3.66 (from langchain)\n",
      "  Downloading langchain_core-0.3.68-py3-none-any.whl.metadata (5.8 kB)\n",
      "Collecting langchain-text-splitters<1.0.0,>=0.3.8 (from langchain)\n",
      "  Downloading langchain_text_splitters-0.3.8-py3-none-any.whl.metadata (1.9 kB)\n",
      "Collecting langsmith>=0.1.17 (from langchain)\n",
      "  Downloading langsmith-0.4.4-py3-none-any.whl.metadata (15 kB)\n",
      "Requirement already satisfied: pydantic<3.0.0,>=2.7.4 in c:\\users\\shani\\appdata\\local\\programs\\python\\python311\\lib\\site-packages (from langchain) (2.11.7)\n",
      "Collecting SQLAlchemy<3,>=1.4 (from langchain)\n",
      "  Downloading sqlalchemy-2.0.41-cp311-cp311-win_amd64.whl.metadata (9.8 kB)\n",
      "Requirement already satisfied: requests<3,>=2 in c:\\users\\shani\\appdata\\local\\programs\\python\\python311\\lib\\site-packages (from langchain) (2.32.3)\n",
      "Requirement already satisfied: PyYAML>=5.3 in c:\\users\\shani\\appdata\\local\\programs\\python\\python311\\lib\\site-packages (from langchain) (6.0.2)\n",
      "Collecting tenacity!=8.4.0,<10.0.0,>=8.1.0 (from langchain-core<1.0.0,>=0.3.66->langchain)\n",
      "  Downloading tenacity-9.1.2-py3-none-any.whl.metadata (1.2 kB)\n",
      "Collecting jsonpatch<2.0,>=1.33 (from langchain-core<1.0.0,>=0.3.66->langchain)\n",
      "  Downloading jsonpatch-1.33-py2.py3-none-any.whl.metadata (3.0 kB)\n",
      "Requirement already satisfied: packaging<25,>=23.2 in c:\\users\\shani\\appdata\\local\\programs\\python\\python311\\lib\\site-packages (from langchain-core<1.0.0,>=0.3.66->langchain) (23.2)\n",
      "Requirement already satisfied: typing-extensions>=4.7 in c:\\users\\shani\\appdata\\roaming\\python\\python311\\site-packages (from langchain-core<1.0.0,>=0.3.66->langchain) (4.13.1)\n",
      "Requirement already satisfied: httpx<1,>=0.23.0 in c:\\users\\shani\\appdata\\local\\programs\\python\\python311\\lib\\site-packages (from langsmith>=0.1.17->langchain) (0.28.1)\n",
      "Collecting orjson<4.0.0,>=3.9.14 (from langsmith>=0.1.17->langchain)\n",
      "  Downloading orjson-3.10.18-cp311-cp311-win_amd64.whl.metadata (43 kB)\n",
      "     --------------------------------------- 43.0/43.0 kB 87.4 kB/s eta 0:00:00\n",
      "Collecting requests-toolbelt<2.0.0,>=1.0.0 (from langsmith>=0.1.17->langchain)\n",
      "  Downloading requests_toolbelt-1.0.0-py2.py3-none-any.whl.metadata (14 kB)\n",
      "Collecting zstandard<0.24.0,>=0.23.0 (from langsmith>=0.1.17->langchain)\n",
      "  Downloading zstandard-0.23.0-cp311-cp311-win_amd64.whl.metadata (3.0 kB)\n",
      "Requirement already satisfied: annotated-types>=0.6.0 in c:\\users\\shani\\appdata\\local\\programs\\python\\python311\\lib\\site-packages (from pydantic<3.0.0,>=2.7.4->langchain) (0.7.0)\n",
      "Requirement already satisfied: pydantic-core==2.33.2 in c:\\users\\shani\\appdata\\local\\programs\\python\\python311\\lib\\site-packages (from pydantic<3.0.0,>=2.7.4->langchain) (2.33.2)\n",
      "Requirement already satisfied: typing-inspection>=0.4.0 in c:\\users\\shani\\appdata\\local\\programs\\python\\python311\\lib\\site-packages (from pydantic<3.0.0,>=2.7.4->langchain) (0.4.1)\n",
      "Requirement already satisfied: charset-normalizer<4,>=2 in c:\\users\\shani\\appdata\\local\\programs\\python\\python311\\lib\\site-packages (from requests<3,>=2->langchain) (3.3.2)\n",
      "Requirement already satisfied: idna<4,>=2.5 in c:\\users\\shani\\appdata\\local\\programs\\python\\python311\\lib\\site-packages (from requests<3,>=2->langchain) (3.4)\n",
      "Requirement already satisfied: urllib3<3,>=1.21.1 in c:\\users\\shani\\appdata\\local\\programs\\python\\python311\\lib\\site-packages (from requests<3,>=2->langchain) (2.0.7)\n",
      "Requirement already satisfied: certifi>=2017.4.17 in c:\\users\\shani\\appdata\\local\\programs\\python\\python311\\lib\\site-packages (from requests<3,>=2->langchain) (2023.7.22)\n",
      "Collecting greenlet>=1 (from SQLAlchemy<3,>=1.4->langchain)\n",
      "  Downloading greenlet-3.2.3-cp311-cp311-win_amd64.whl.metadata (4.2 kB)\n",
      "Requirement already satisfied: anyio in c:\\users\\shani\\appdata\\local\\programs\\python\\python311\\lib\\site-packages (from httpx<1,>=0.23.0->langsmith>=0.1.17->langchain) (4.9.0)\n",
      "Requirement already satisfied: httpcore==1.* in c:\\users\\shani\\appdata\\local\\programs\\python\\python311\\lib\\site-packages (from httpx<1,>=0.23.0->langsmith>=0.1.17->langchain) (1.0.9)\n",
      "Requirement already satisfied: h11>=0.16 in c:\\users\\shani\\appdata\\local\\programs\\python\\python311\\lib\\site-packages (from httpcore==1.*->httpx<1,>=0.23.0->langsmith>=0.1.17->langchain) (0.16.0)\n",
      "Collecting jsonpointer>=1.9 (from jsonpatch<2.0,>=1.33->langchain-core<1.0.0,>=0.3.66->langchain)\n",
      "  Downloading jsonpointer-3.0.0-py2.py3-none-any.whl.metadata (2.3 kB)\n",
      "Requirement already satisfied: sniffio>=1.1 in c:\\users\\shani\\appdata\\local\\programs\\python\\python311\\lib\\site-packages (from anyio->httpx<1,>=0.23.0->langsmith>=0.1.17->langchain) (1.3.1)\n",
      "Downloading langchain-0.3.26-py3-none-any.whl (1.0 MB)\n",
      "   ---------------------------------------- 1.0/1.0 MB 1.3 MB/s eta 0:00:00\n",
      "Downloading langchain_core-0.3.68-py3-none-any.whl (441 kB)\n",
      "   -------------------------------------- 441.4/441.4 kB 541.7 kB/s eta 0:00:00\n",
      "Downloading langchain_text_splitters-0.3.8-py3-none-any.whl (32 kB)\n",
      "Downloading langsmith-0.4.4-py3-none-any.whl (367 kB)\n",
      "   -------------------------------------- 367.7/367.7 kB 557.6 kB/s eta 0:00:00\n",
      "Downloading sqlalchemy-2.0.41-cp311-cp311-win_amd64.whl (2.1 MB)\n",
      "   ---------------------------------------- 2.1/2.1 MB 1.2 MB/s eta 0:00:00\n",
      "Downloading greenlet-3.2.3-cp311-cp311-win_amd64.whl (297 kB)\n",
      "   ---------------------------------------- 297.0/297.0 kB 2.6 MB/s eta 0:00:00\n",
      "Downloading jsonpatch-1.33-py2.py3-none-any.whl (12 kB)\n",
      "Downloading orjson-3.10.18-cp311-cp311-win_amd64.whl (134 kB)\n",
      "   ---------------------------------------- 134.6/134.6 kB 2.0 MB/s eta 0:00:00\n",
      "Downloading requests_toolbelt-1.0.0-py2.py3-none-any.whl (54 kB)\n",
      "   ---------------------------------------- 54.5/54.5 kB 1.4 MB/s eta 0:00:00\n",
      "Downloading tenacity-9.1.2-py3-none-any.whl (28 kB)\n",
      "Downloading zstandard-0.23.0-cp311-cp311-win_amd64.whl (495 kB)\n",
      "   ---------------------------------------- 495.4/495.4 kB 1.1 MB/s eta 0:00:00\n",
      "Downloading jsonpointer-3.0.0-py2.py3-none-any.whl (7.6 kB)\n",
      "Installing collected packages: zstandard, tenacity, orjson, jsonpointer, greenlet, SQLAlchemy, requests-toolbelt, jsonpatch, langsmith, langchain-core, langchain-text-splitters, langchain\n",
      "Successfully installed SQLAlchemy-2.0.41 greenlet-3.2.3 jsonpatch-1.33 jsonpointer-3.0.0 langchain-0.3.26 langchain-core-0.3.68 langchain-text-splitters-0.3.8 langsmith-0.4.4 orjson-3.10.18 requests-toolbelt-1.0.0 tenacity-9.1.2 zstandard-0.23.0\n",
      "Note: you may need to restart the kernel to use updated packages.\n"
     ]
    },
    {
     "name": "stderr",
     "output_type": "stream",
     "text": [
      "\n",
      "[notice] A new release of pip is available: 23.3 -> 25.1.1\n",
      "[notice] To update, run: python.exe -m pip install --upgrade pip\n"
     ]
    }
   ],
   "source": [
    "%pip install langchain"
   ]
  },
  {
   "cell_type": "code",
   "execution_count": null,
   "metadata": {},
   "outputs": [],
   "source": [
    "from langchain.text_splitter import RecursiveCharacterTextSplitter\n",
    "\n",
    "splitter = RecursiveCharacterTextSplitter(\n",
    "    chunk_size=512,\n",
    "    chunk_overlap=100,\n",
    "    separators=[\"\\n\\n\", \"\\n\", \".\", \" \"],\n",
    ")\n",
    "\n",
    "raw_chunks = splitter.split_text(cleaned_text)\n"
   ]
  },
  {
   "cell_type": "code",
   "execution_count": 28,
   "metadata": {},
   "outputs": [
    {
     "name": "stdout",
     "output_type": "stream",
     "text": [
      "Total chunks created: 86\n"
     ]
    }
   ],
   "source": [
    "print(f\"Total chunks created: {len(raw_chunks)}\")"
   ]
  },
  {
   "cell_type": "code",
   "execution_count": 30,
   "metadata": {},
   "outputs": [
    {
     "name": "stdout",
     "output_type": "stream",
     "text": [
      "\n",
      "=== Chunk 1 ===\n",
      "---  ---\n",
      "the official rules of chess  cardoza publishing\n",
      "the official rules of chess\n",
      "the following are the standard rules of chess as applied in world\n",
      "championship competition. in later chapter we present some of the\n",
      "variations of the rules used in amateur, scholastic, and online com-\n",
      "petitions. these rules conform in most part to those of the world\n",
      "chess federation (fide), but differ significantly from those found in\n",
      "american tournaments conducted under the auspices of the united\n",
      "\n",
      "=== Chunk 2 ===\n",
      "american tournaments conducted under the auspices of the united\n",
      "states chess federation. since most american tournaments are\n",
      "amateur events, those rules are discussed in the section on ama-\n",
      "teur rules.\n",
      "this set of rules was composed by international arbiter eric\n",
      "schiller, with the cooperation and valuable assistance of interna-\n",
      "tional arbiters andrzej filipowicz (poland) and yuri averbakh (rus-\n",
      "sia). they were used verbatim in the 2000 braingames.net world\n",
      "\n",
      "=== Chunk 3 ===\n",
      "sia). they were used verbatim in the 2000 braingames.net world\n",
      "chess championship and were personally approved by world cham-\n",
      "pion garry kasparov and his challenger vladimir kramnik. additional\n",
      "advice was provided by lothar schmid of germany, the interna-\n",
      "tional arbiter who oversaw the fischer vs. spassky matches in 1972\n",
      "and 1992.\n",
      "scope\n",
      "the laws of chess cannot cover all possible situations that may\n",
      "arise during a game. the arbiter’s judgment will apply when there is\n",
      "no specific rule available.\n"
     ]
    }
   ],
   "source": [
    "# Split based on paragraph breaks\n",
    "# raw_chunks = cleaned_text.split('\\n\\n')\n",
    "\n",
    "# Keep only meaningful chunks (e.g., more than 30 words)\n",
    "chunks = []\n",
    "for chunk in raw_chunks:\n",
    "    chunk = chunk.strip()\n",
    "    if len(chunk.split()) > 15: # Adjust the threshold as needed\n",
    "        chunks.append(chunk)\n",
    "\n",
    "# Show a few to confirm\n",
    "for i, chunk in enumerate(chunks[:3]):\n",
    "    print(f\"\\n=== Chunk {i+1} ===\\n{chunk}\")\n"
   ]
  },
  {
   "cell_type": "code",
   "execution_count": 31,
   "metadata": {},
   "outputs": [
    {
     "name": "stdout",
     "output_type": "stream",
     "text": [
      "85\n"
     ]
    }
   ],
   "source": [
    "print(len(chunks))  # Check how many chunks we have"
   ]
  },
  {
   "cell_type": "markdown",
   "metadata": {},
   "source": [
    "### Generate Embeddings"
   ]
  },
  {
   "cell_type": "code",
   "execution_count": 32,
   "metadata": {},
   "outputs": [
    {
     "name": "stderr",
     "output_type": "stream",
     "text": [
      "Batches: 100%|██████████| 3/3 [00:03<00:00,  1.09s/it]\n"
     ]
    }
   ],
   "source": [
    "from sentence_transformers import SentenceTransformer\n",
    "\n",
    "embedmodel = SentenceTransformer('all-MiniLM-L6-v2')\n",
    "embeddings = embedmodel.encode(chunks, show_progress_bar=True)"
   ]
  },
  {
   "cell_type": "code",
   "execution_count": 34,
   "metadata": {},
   "outputs": [
    {
     "name": "stdout",
     "output_type": "stream",
     "text": [
      "Total chunks embedded: 85\n",
      "First vector shape: (384,)\n"
     ]
    }
   ],
   "source": [
    "print(f\"Total chunks embedded: {len(embeddings)}\")\n",
    "print(f\"First vector shape: {embeddings[0].shape}\")  # should be (384,)\n"
   ]
  },
  {
   "cell_type": "markdown",
   "metadata": {},
   "source": [
    "### Setting Up Vector Database"
   ]
  },
  {
   "cell_type": "code",
   "execution_count": null,
   "metadata": {},
   "outputs": [],
   "source": [
    "!pip install qdrant-client\n"
   ]
  },
  {
   "cell_type": "code",
   "execution_count": 36,
   "metadata": {},
   "outputs": [
    {
     "name": "stderr",
     "output_type": "stream",
     "text": [
      "<ipython-input-36-9c066e5c36d2>:10: DeprecationWarning: `recreate_collection` method is deprecated and will be removed in the future. Use `collection_exists` to check collection existence and `create_collection` instead.\n",
      "  client.recreate_collection(\n"
     ]
    },
    {
     "data": {
      "text/plain": [
       "UpdateResult(operation_id=0, status=<UpdateStatus.COMPLETED: 'completed'>)"
      ]
     },
     "execution_count": 36,
     "metadata": {},
     "output_type": "execute_result"
    }
   ],
   "source": [
    "from qdrant_client import QdrantClient\n",
    "from qdrant_client.models import Distance, VectorParams, PointStruct\n",
    "\n",
    "# Start a local in-memory Qdrant instance\n",
    "client = QdrantClient(\":memory:\")\n",
    "\n",
    "collection_name = \"board_game_rules\"\n",
    "\n",
    "#create the collection with vector params\n",
    "client.recreate_collection(\n",
    "    collection_name=collection_name,\n",
    "    vectors_config=VectorParams(\n",
    "        size=len(embeddings[0]),  # Should match the embedding size\n",
    "        distance=Distance.COSINE\n",
    "    )\n",
    ")\n",
    "\n",
    "# Prepare points to insert\n",
    "points = [\n",
    "    PointStruct(\n",
    "        id=i,\n",
    "        vector=embeddings[i],\n",
    "        payload={\"text\": chunks[i]}  # Store the original text as payload\n",
    "    )\n",
    "    for i in range(len(embeddings))\n",
    "]\n",
    "\n",
    "# Insert points into the collection\n",
    "client.upsert(collection_name=collection_name, points=points)"
   ]
  },
  {
   "cell_type": "markdown",
   "metadata": {},
   "source": [
    "### Test"
   ]
  },
  {
   "cell_type": "code",
   "execution_count": 41,
   "metadata": {},
   "outputs": [
    {
     "name": "stdout",
     "output_type": "stream",
     "text": [
      "\n",
      "=== Match 1 ===\n",
      "the player’s own piece shall be considered to have been touched\n",
      "before the opponent’s.\n",
      "4.4. (a) if a player deliberately touches the king and a rook he\n",
      "must castle on that side if it is legal.\n",
      "(b) if a player deliberately touches a rook and then the king he is\n",
      "not allowed to castle on that side on that move and the situation\n",
      "shall be governed by article 4.3.\n",
      "(c) if a player intending to castle, touches the king or king and a\n",
      "rook at the same time, but castling on that side is illegal, the player\n",
      "\n",
      "=== Match 2 ===\n",
      "rook at the same time, but castling on that side is illegal, the player\n",
      "must choose either to castle on the other side, provided that castling\n",
      "\n",
      "=== Match 3 ===\n",
      "been captured en passant or if the right to castle immediately or in\n",
      "the future has been changed.\n",
      "9.3. the game is drawn, upon a correct claim by the player hav-\n",
      "ing the move, if\n",
      "(a) the player writes on the scoresheet, and declares to the arbi-\n",
      "ter the intention to make a move which shall result in the last 50\n",
      "moves having been made by each player without the movement of\n",
      "any pawn and without the capture of any piece, or\n",
      "(b) the last 50 consecutive moves have been made by each player\n"
     ]
    },
    {
     "name": "stderr",
     "output_type": "stream",
     "text": [
      "<ipython-input-41-ac7b00f0ce47>:5: DeprecationWarning: `search` method is deprecated and will be removed in the future. Use `query_points` instead.\n",
      "  search_result = client.search(\n"
     ]
    }
   ],
   "source": [
    "query = \"When can a player castle?\"\n",
    "query_embedding = embedmodel.encode(query).tolist()\n",
    "\n",
    "# Search for top 3 most similar chunks\n",
    "search_result = client.search(\n",
    "    collection_name=collection_name,\n",
    "    query_vector=query_embedding,\n",
    "    limit=3\n",
    ")\n",
    "\n",
    "# Show results\n",
    "for i, result in enumerate(search_result):\n",
    "    print(f\"\\n=== Match {i+1} ===\")\n",
    "    print(result.payload[\"text\"])\n"
   ]
  },
  {
   "cell_type": "markdown",
   "metadata": {},
   "source": [
    "### Retrival+Generation"
   ]
  },
  {
   "cell_type": "code",
   "execution_count": null,
   "metadata": {},
   "outputs": [],
   "source": [
<<<<<<< HEAD
    "!pip install google-generativeai\n"
   ]
  },
  {
   "cell_type": "code",
   "execution_count": null,
   "metadata": {},
   "outputs": [],
   "source": [
    "!pip uninstall google-generativeai -y\n"
   ]
  },
  {
   "cell_type": "code",
   "execution_count": null,
   "metadata": {},
   "outputs": [],
   "source": [
=======
>>>>>>> 64c0f14d9ee34178ef5a7679b610a56439595244
    "!pip install -U google-generativeai\n"
   ]
  },
  {
   "cell_type": "code",
   "execution_count": null,
   "metadata": {},
   "outputs": [],
   "source": [
    "import google.generativeai as genai\n",
    "genai.configure(api_key=\"insert_your_api_key_here\")"
   ]
  },
  {
   "cell_type": "markdown",
   "metadata": {},
   "source": [
    "### Load the Gemini Model"
   ]
  },
  {
   "cell_type": "code",
   "execution_count": null,
   "metadata": {},
   "outputs": [],
   "source": [
    "models = genai.list_models()\n",
    "for m in models:\n",
    "    print(m.name)\n"
   ]
  },
  {
   "cell_type": "code",
   "execution_count": 10,
   "metadata": {},
   "outputs": [],
   "source": [
    "geminimodel = genai.GenerativeModel(model_name=\"models/gemini-1.5-flash-latest\")\n"
   ]
  },
  {
   "cell_type": "markdown",
   "metadata": {},
   "source": [
    "### RAG Function"
   ]
  },
  {
   "cell_type": "code",
   "execution_count": 38,
   "metadata": {},
   "outputs": [],
   "source": [
    "def rag_answer_gemini(query:str ,top_k: int = 3) -> str:\n",
    "    # Step 1: Embed the query using sentence-transformers\n",
    "    query_embedding = embedmodel.encode(query).tolist()\n",
    "    \n",
    "    # Step 2: Search Qdrant for top relevant chunks\n",
    "    search_result = client.search(\n",
    "        collection_name=collection_name,\n",
    "        query_vector=query_embedding,\n",
    "        limit=top_k\n",
    "    )\n",
    "    \n",
    "    # Step 3: Build context\n",
    "    retrieved_context = \"\\n\".join([hit.payload[\"text\"] for hit in search_result])\n",
    "\n",
    "    # Step 4: FEW-SHOT Prompt\n",
    "    few_shot = \"\"\"\n",
    "You are a helpful assistant for answering board game rules based on context. Only answer using the given context.\n",
    "\n",
    "Example 1:\n",
    "Question: When can a player castle in chess?\n",
    "Context: Castling is a move involving the king and a rook of the same color. Castling can only be done if neither the king nor the rook has previously moved, the squares between them are unoccupied, and the king is not in check, nor will it pass through or land on a square attacked by an enemy piece.\n",
    "Answer: A player can castle if neither the king nor the rook has moved, the squares between them are empty, and the king is not in or passing through check.\n",
    "\n",
    "Example 2:\n",
    "Question: When can I build a settlement in Catan?\n",
    "Context: You may only build a settlement on an unoccupied intersection if all adjacent intersections are also empty. A settlement must be connected to your existing road network unless it's the first two placed at the beginning of the game.\n",
    "Answer: You can build a settlement if it’s at least two intersections away from others and is connected to your road, unless it's part of your initial placement.\n",
    "\n",
    "Example 3:\n",
    "Question: What happens if I pocket the striker?\n",
    "Context: If a player pockets the striker, they must return one previously pocketed coin to the board, and lose their turn. If no coins were pocketed yet, a penalty coin is placed from the board center.\n",
    "Answer: If you pocket the striker, you lose your turn and must return a pocketed coin (or pay a penalty if none were pocketed).\n",
    "\"\"\"\n",
    "\n",
    "    final_prompt = f\"\"\"{few_shot}\n",
    "\n",
    "Context: {retrieved_context}\n",
    "\n",
    "Question: {query}\n",
    "Answer:\"\"\"\n",
    "\n",
    "    # Step 5: Generate with Gemini\n",
    "    response = geminimodel.generate_content(final_prompt)\n",
    "    return response.text.strip()"
   ]
  },
  {
   "cell_type": "code",
   "execution_count": 39,
   "metadata": {},
   "outputs": [
    {
     "name": "stderr",
     "output_type": "stream",
     "text": [
      "<ipython-input-38-07dc5c4bd509>:6: DeprecationWarning: `search` method is deprecated and will be removed in the future. Use `query_points` instead.\n",
      "  search_result = client.search(\n"
     ]
    },
    {
     "name": "stdout",
     "output_type": "stream",
     "text": [
      "🔍 Question: How to defeat the opponent?\n",
      "\n",
      "💡 Answer: The objective is to arrive at a position where the opponent's king has no legal move to avoid capture on the following move.\n"
     ]
    }
   ],
   "source": [
    "question = \"How to defeat the opponent?\"\n",
    "answer = rag_answer_gemini(question)\n",
    "\n",
    "print(\"🔍 Question:\", question)\n",
    "print(\"\\n💡 Answer:\", answer)\n"
   ]
  },
  {
   "cell_type": "code",
   "execution_count": 42,
   "metadata": {},
   "outputs": [
    {
     "name": "stderr",
     "output_type": "stream",
     "text": [
      "<ipython-input-38-07dc5c4bd509>:6: DeprecationWarning: `search` method is deprecated and will be removed in the future. Use `query_points` instead.\n",
      "  search_result = client.search(\n"
     ]
    },
    {
     "name": "stdout",
     "output_type": "stream",
     "text": [
      "🔍 Question: When can a player castle?\n",
      "\n",
      "💡 Answer: A player must castle if they deliberately touch their king and rook, provided it is a legal move.  If a player touches a rook then the king, castling on that side is not allowed. If a player touches the king and rook intending to castle, but it's illegal, they must castle on the other side if possible.  The right to castle can be affected by a piece being captured en passant or other rule changes.\n"
     ]
    }
   ],
   "source": [
    "question = \"When can a player castle?\"\n",
    "answer = rag_answer_gemini(question)\n",
    "\n",
    "print(\"🔍 Question:\", question)\n",
    "print(\"\\n💡 Answer:\", answer)\n"
   ]
  }
 ],
 "metadata": {
  "kaggle": {
   "accelerator": "none",
   "dataSources": [],
   "dockerImageVersionId": 31040,
   "isGpuEnabled": false,
   "isInternetEnabled": false,
   "language": "python",
   "sourceType": "notebook"
  },
  "kernelspec": {
   "display_name": "Python 3",
   "language": "python",
   "name": "python3"
  },
  "language_info": {
   "codemirror_mode": {
    "name": "ipython",
    "version": 3
   },
   "file_extension": ".py",
   "mimetype": "text/x-python",
   "name": "python",
   "nbconvert_exporter": "python",
   "pygments_lexer": "ipython3",
   "version": "3.11.5"
  }
 },
 "nbformat": 4,
 "nbformat_minor": 4
}
